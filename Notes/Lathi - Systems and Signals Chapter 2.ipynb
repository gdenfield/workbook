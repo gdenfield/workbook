{
 "cells": [
  {
   "cell_type": "code",
   "execution_count": 1,
   "metadata": {
    "collapsed": false
   },
   "outputs": [
    {
     "name": "stdout",
     "output_type": "stream",
     "text": [
      "Populating the interactive namespace from numpy and matplotlib\n"
     ]
    }
   ],
   "source": [
    "%pylab inline\n",
    "%config InlineBackend.figure_format = 'svg'"
   ]
  },
  {
   "cell_type": "markdown",
   "metadata": {},
   "source": [
    "# Chapter 2\n",
    "##Time Domain Analysis of Continuous-Time Systems"
   ]
  },
  {
   "cell_type": "markdown",
   "metadata": {},
   "source": [
    "A *linear differential system* is one of the following form:\n",
    "\n",
    "\\begin{align}\n",
    "(D^N + a_1D^{N-1} + ... + a_{N-1} + a_N)y_t &= (D^{N-M} + b_1D^{N-M+1} + ... + b_{N-1} + b_N)x_t \\\\\n",
    "(2.1) \\\\\n",
    "Q(D)y(t) &= P(D)x(t) \\\\\n",
    "(2.2)\n",
    "\\end{align}"
   ]
  },
  {
   "cell_type": "markdown",
   "metadata": {},
   "source": [
    "Above, we have made use of the **differential operator**, $D$ to represent $d/dt$. Here we will work with cases where $M\\leq N$ as a variety of complications arise when $M$ is greater than $N$ (for instance, input noise is significantly amplified by higher-order derivatives). The following form for equation (2.2) is useful for zero-input zero-state analysis that will be undertaken soon:\n",
    "\n",
    "$$\n",
    "Q(D)[y_0(t) + y(t)] = P(D)x(t)\n",
    "$$"
   ]
  },
  {
   "cell_type": "markdown",
   "metadata": {},
   "source": [
    "### S2.2 System Response to Internal Conditions: Zero-Input Response"
   ]
  },
  {
   "cell_type": "markdown",
   "metadata": {},
   "source": [
    "The *zero-input response* is the solution of the above equation (2.1) when $x(t)=0$, such that\n",
    "\n",
    "\\begin{equation} \n",
    "Q(D)y_0(t) = 0 \\\\\n",
    "(2.3)\n",
    "\\end{equation}\n"
   ]
  },
  {
   "cell_type": "markdown",
   "metadata": {},
   "source": [
    "In order for this solution to work for all $t$, $y(t)$ and all its derivatives, captured by $Q(D)$ must be of the same form. Thus, it is most reasonable to work with the exponential function $e^{\\lambda t}$, which has this property."
   ]
  },
  {
   "cell_type": "markdown",
   "metadata": {},
   "source": [
    "We assume, then, that\n",
    "\n",
    "$$\n",
    "y_0(t) = ce^{\\lambda t}\n",
    "$$"
   ]
  },
  {
   "cell_type": "markdown",
   "metadata": {},
   "source": [
    "Substituting the above into equation (2.3) gives the following\n",
    "\n",
    "\\begin{align}\n",
    "c(\\lambda^N + a_1\\lambda^{N-1} + ... + a_{N-1}\\lambda + a_N)e^{\\lambda t} &= 0 \\\\\n",
    "\\lambda^N + a_1\\lambda^{N-1} + ... + a_{N-1}\\lambda + a_N &= 0 = Q(\\lambda)\n",
    "\\end{align}"
   ]
  },
  {
   "cell_type": "markdown",
   "metadata": {},
   "source": [
    "Factorizing \n",
    "$$\n",
    "Q(\\lambda) = (\\lambda - \\lambda_1)(\\lambda - \\lambda_2) ... (\\lambda - \\lambda_N) = 0\n",
    "$$\n",
    "\n",
    "we see there are N solutions assuming the $\\lambda_i$ are distinct, and we observe\n",
    "\n",
    "$$\n",
    "y_0(t) = c_1e^{\\lambda_1 t} + c_2e^{\\lambda_2 t} + ... + c_Ne^{\\lambda_N t}\n",
    "$$"
   ]
  },
  {
   "cell_type": "markdown",
   "metadata": {
    "collapsed": true
   },
   "source": [
    "Typically, we are given some initial conditions involving $y_0(t)$ and $\\frac{dy}{dt}$ which we can use to solve for the $c_i$'s.\n",
    "\n",
    "In general, given an $N^th$ order derivative, we need $N$ *auxiliary conditions* to determine $y(t)$ uniquely. When $t=0$ these auxiliary conditions are called *initial conditions*."
   ]
  },
  {
   "cell_type": "markdown",
   "metadata": {},
   "source": [
    "**Repeated Roots** modify the zero-input response solution slightly. For a differential equation of the form:\n",
    "\n",
    "$$\n",
    "(D - \\lambda)^ry_0(t) = 0\n",
    "$$\n",
    "\n",
    "The solution has the form\n",
    "\n",
    "$$\n",
    "y_o(t) = e^{\\lambda t}(c_1 + c_2t + ... + c_rt^{r-1})\n",
    "$$"
   ]
  },
  {
   "cell_type": "markdown",
   "metadata": {},
   "source": [
    "### S2.3 The Unit Impulse Response $h(t)$"
   ]
  },
  {
   "cell_type": "markdown",
   "metadata": {
    "collapsed": true
   },
   "source": [
    "The *impulse response* $h(t)$ is the system response to an impulse input $\\delta(t)$ applied at $t=0$ with all initial conditions zero at $t=0^-$."
   ]
  },
  {
   "cell_type": "markdown",
   "metadata": {},
   "source": [
    "The form of the complete impulse response is, for $t\\geq0$\n",
    "\n",
    "\\begin{align}\n",
    "h(t) &= A_0\\delta(t) + CMTs, \\\\\n",
    "(a_0D^N + a_1D^{N-1} + ... + a_{N-1}D + a_N)h(t) &= (b_0D^M + b_1D^{N-1} + ... + b_{N-1}D + b_N)\\delta(t)\n",
    "\\end{align}\n",
    "\n",
    "where CMTs are the *characteristic mode terms*."
   ]
  },
  {
   "cell_type": "markdown",
   "metadata": {},
   "source": [
    "**Impulse Matching** - a method for determining the impulse response of a system\n",
    "\n",
    "**Example 2.3**\n",
    "\n",
    "Take the following system:\n",
    "\n",
    "$$\n",
    "(D^2 + 5D + 6)y(t) = (D + 1)x(t)\n",
    "$$\n",
    "\n",
    "This system has M < N and so $b_0 = 0$ and $h(t)$ will consist only of characteristic modes.\n",
    "\n",
    "The characteristic polynomial is $\\lambda^2 + 5\\lambda + 6 = (\\lambda + 2)(\\lambda + 3)$. The roots are therefore -2 and -3 so \n",
    "\n",
    "\\begin{align}\n",
    "h(t) &= (c_1e^{-2t} + c_2e^{-3t})u(t) \\\\\n",
    "h''(t) + 5h'(t) + 6h(t) &= \\delta'(t) + \\delta(t)\n",
    "\\end{align}\n",
    "\n",
    "We must now find the coefficients $c_1$ and $c_2$, for which we use *impulse matching*. We note that the impulse at time $t=0$ results in different initial conditions at $t=0^+$, which we take to be $h'(0^+)=K_1\\delta(t)$ and $h''(0^+)=K_1\\delta'(t) + K_2\\delta(t)$ (these new conditions begin with $N^{th}$ to $(N-M)^{th}$ derivatives of $h(t)$, in this case $2^{nd}$ and $1^{st}$.\n",
    "\n"
   ]
  },
  {
   "cell_type": "markdown",
   "metadata": {},
   "source": [
    "Plugging these conditions in for $h''(t)$ and $h'(t)$ on the right-hand side and ignoring the $0^{th}$ order derivative gives:\n",
    "\n",
    "$$\n",
    "K_1\\delta'(t) + K_2\\delta(t) + 5K_1\\delta(t) = \\delta'(t) + \\delta(t)\n",
    "$$\n",
    "\n",
    "We then take terms of the same order, and for each order create a separate equation:\n",
    "\n",
    "\\begin{align}\n",
    "\\delta'(t)&: K_1 = 1 \\\\\n",
    "\\delta(t)&: 5K_1 + K_2 = 1\n",
    "\\end{align}\n",
    "\n",
    "Now our initial conditions used to solve for $c_1$ and $c_2$ become \n",
    "\n",
    "$$\n",
    "h(0^+) = K_1 = 1 \\\\\n",
    "h'(0^+) = K_2 = -4\n",
    "$$\n",
    "\n",
    "And we get\n",
    "\n",
    "$$\n",
    "c_1 + c_2 = 1 \\\\\n",
    "-2c_1 + -3c_2 = -4 \\\\\n",
    "c_1 = -1 \\\\\n",
    "c_2 = 2\n",
    "$$\n"
   ]
  },
  {
   "cell_type": "markdown",
   "metadata": {},
   "source": [
    "**Simplified Impulse Matching**\n",
    "\n",
    "Solve: $h(t) = b_0\\delta(t) + [P(D)y_n(t)]u(t)$\n",
    "\n",
    "*Recall, $P(D)$ is the polynomial multiplying the input $x(t)$.*\n",
    "\n",
    "Our initial conditions are such that all $k^{th}$ order derivatives of $y^{(k)}_n(t) = 0$ except for k = N-1, in that case $y^{(N-1)}_n(t) = 1$.\n",
    "\n",
    "Say, $N = 3$, then:\n",
    "\n",
    "$$ \n",
    "y_n(0) = 0 \\\\\n",
    "y'_n(0) = 0 \\\\\n",
    "y''_n(0) = 1 \n",
    "$$\n"
   ]
  },
  {
   "cell_type": "markdown",
   "metadata": {},
   "source": [
    "Take the following $2^{nd}$ order system:\n",
    "\n",
    "\\begin{align}\n",
    "(D^2 + 3D + 2)y(t) &= Dx(t) \\\\\n",
    "y_n(t) &= c_1e^{-t} + c_2e^{-2t} \\\\\n",
    "y'_n(t) &= -c_1e^{-t} + -2c_2c^{-2t}\n",
    "\\end{align}\n",
    "\n",
    "We now take \n",
    "\n",
    "\\begin{align}\n",
    "y_n(0) = 0 &= c_1 + c_2\\\\\n",
    "y'_n(0) = 1 &= -c_1 -2c_2\n",
    "\\end{align}\n",
    "\n",
    "Because $M<N$, $b_0=0$ and as $P(D) = D$, we substitue and obtain the following expression:\n",
    "\n",
    "\\begin{align}\n",
    "h(t) &= [Dy_n(t)]u(t) \\\\\n",
    "&= [-c_1e^{-t} + -2c_2c^{-2t}]u(t) \\\\\n",
    "&= [e^{-t} +2e^{-2t}]u(t)\n",
    "\\end{align}"
   ]
  },
  {
   "cell_type": "markdown",
   "metadata": {},
   "source": [
    "### S2.4 System Response To External Input: Zero-State Response"
   ]
  },
  {
   "cell_type": "markdown",
   "metadata": {},
   "source": [
    "**Zero-State Response** is the system response $y(t)$ to an input $x(t)$ when the initial conditions are set to zero.\n",
    "\n",
    "The system's response is determined by its impulse response, which is made up of characteristic modes of the system.\n",
    "\n",
    "We can express an arbitrary input $x(t)$ as a sum of pulses, where our basic pulse $p(t)$ is of unit height and width $\\Delta\\tau$. \n",
    "\n",
    "Each pulse representing a step of $x(t)$ begins at time $t=n\\Delta\\tau$ and has height equal to $x(n\\Delta\\tau)$, giving:\n",
    "\n",
    "\\begin{align}\n",
    "x(t) &= \\lim_{\\Delta\\tau\\to0}{\\sum}x(n\\Delta\\tau)p(t-n\\Delta\\tau) \\\\\n",
    "&= \\lim_{\\Delta\\tau\\to0}{\\sum}\\frac{x(n\\Delta\\tau)}{\\Delta\\tau}p(t-n\\Delta\\tau)\\Delta\\tau\n",
    "\\end{align}\n",
    "\n",
    "As $\\Delta\\tau$ goes to zero, the height of the pulse goes to $\\to\\infty$ but, as its area remains $x(n\\Delta\\tau)$, we can replace this with an impulse, giving:\n",
    "\n",
    "$$\n",
    "x(t) = \\lim_{\\Delta\\tau\\to0}{\\sum}x(n\\Delta\\tau)\\delta(t-n\\Delta\\tau)\\Delta\\tau\n",
    "$$"
   ]
  },
  {
   "cell_type": "markdown",
   "metadata": {},
   "source": [
    "On the output side, we know that the impulse response is $h(t)$.\n",
    "\n",
    "Therefore:\n",
    "\n",
    "$$\n",
    "y(t) = \\int_{-\\infty}^{\\infty}x(\\tau)h(t -\\tau){d\\tau}\n",
    "$$\n",
    "\n",
    "or more specifically, the zero-state response of a system is:\n",
    "\n",
    "$$\n",
    "y(t) = x(t)*h(t) = \\int_{-\\infty}^{\\infty}x(\\tau)h(t-\\tau){d\\tau}\n",
    "$$\n",
    "\n",
    "The above integral is a *convolution integral*.\n",
    "\n",
    "The convolution integrals has a number of important properties:\n",
    "\n",
    "1. Associativity\n",
    "2. Commutativity\n",
    "3. Distributive\n",
    "\n",
    "It also has the *shift* property, where if\n",
    "$$\n",
    "x_1(t)*x_2(t) = c(t)\n",
    "$$\n",
    "then\n",
    "$$\n",
    "x_1(t-T_1)*x_2(t-T_2) = c(t-T_1-T_2)\n",
    "$$\n",
    "\n",
    "The *width* property: if the duration of $x_1(t)$ is $T_1$ and of $x_2(t)$ is $T_2$, then the duration of $x_1(t)*x_2(t)$ is $T_1+T_2$"
   ]
  },
  {
   "cell_type": "markdown",
   "metadata": {
    "collapsed": true
   },
   "source": [
    "Intuitively, we can understand the system response at time $t$ as determined not only by the input $x(t)$ but by a weighted version of that input, $x(\\tau)h(t-\\tau)$ where the weight function is the impulse response $h(t-\\tau)$."
   ]
  },
  {
   "cell_type": "markdown",
   "metadata": {
    "collapsed": true
   },
   "source": [
    "#### The Everlasting Exponential $e^{st}$"
   ]
  },
  {
   "cell_type": "markdown",
   "metadata": {},
   "source": [
    "An LTIC system's response to everlasting exponential input $x(t) = e^{st}$ is a scaled version of that input. \n",
    "\n",
    "This is called a *characteristic function (eigenfunction)* of the system: that is, when the system response $y(t)$ is of the same form as the input $x(t)$. Note that a sinusoid, as a form of exponential, is also a characteristic function of LTIC systems.\n",
    "\n"
   ]
  },
  {
   "cell_type": "markdown",
   "metadata": {},
   "source": [
    "Taking the system's response to be $y(t)$, its unit impulse response $h(t)$ and input $x(t)=e^{st}$, we have:\n",
    "\n",
    "\\begin{align}\n",
    "y(t) &= h(t)*e^{st} \\\\\n",
    "&= \\int_{-\\infty}^{\\infty}h(\\tau)e^{s(t-\\tau)}d\\tau \\\\\n",
    "&= e^{st}\\int_{-\\infty}^{\\infty}h(\\tau)e^{-s\\tau}d\\tau \\\\\n",
    "&= H(s)e^{st}\n",
    "\\end{align}"
   ]
  },
  {
   "cell_type": "markdown",
   "metadata": {},
   "source": [
    "$H(s)$ is also called the *transfer function* of the system and can alternatively be defined as:\n",
    "\n",
    "$$\n",
    "H(s) = \\frac{output}{input},\n",
    "$$\n",
    "\n",
    "where input = everlasting exponential."
   ]
  },
  {
   "cell_type": "markdown",
   "metadata": {},
   "source": [
    "For a system defined by Eq.2.1 above:\n",
    "\n",
    "$$\n",
    "H(s) = \\frac{P(s)}{Q(s)},\n",
    "$$\n",
    "\n",
    "such that, when plugging in our input $x(t)=e^{st}$ and output $y(t)=H(s)e^{st}$\n",
    "\n",
    "$$\n",
    "H(s)[Q(D)e^{st}] = P(D)e^{st}\n",
    "$$"
   ]
  },
  {
   "cell_type": "markdown",
   "metadata": {},
   "source": [
    "#### Total System Response"
   ]
  },
  {
   "cell_type": "markdown",
   "metadata": {},
   "source": [
    "\\begin{align}\n",
    "response &= \\sum_{k=1}^{N}c_ke^{\\lambda_kt} + x(t) * h(t) \\\\\n",
    "&= {\\text{zero-input-component}} + {\\text{zero-state-component}} \n",
    "\\end{align}"
   ]
  },
  {
   "cell_type": "markdown",
   "metadata": {},
   "source": [
    "We can also express the response as a sum of the *natural* and *forced* components, where the *natural* components consist of *characteristic mode* terms and the forced response consists of all other terms."
   ]
  },
  {
   "cell_type": "markdown",
   "metadata": {},
   "source": [
    "The *forced response* for an exponential signal also takes a very simple form:\n",
    "\n",
    "$$\n",
    "y_{\\phi}(t) = H(\\zeta)Ce^{\\zeta t}\n",
    "$$\n",
    "\n",
    "$$\n",
    "H(\\zeta) = \\frac{P(\\zeta)}{Q(\\zeta)}\n",
    "$$"
   ]
  },
  {
   "cell_type": "markdown",
   "metadata": {},
   "source": [
    "### S2.6 System Stability"
   ]
  },
  {
   "cell_type": "markdown",
   "metadata": {},
   "source": [
    "**Equilibria**\n",
    "\n",
    "*Stable Equilibrium*: return to same equilibrium state when perturbed\n",
    "\n",
    "*Unstable Equilibrium*: slight perturbations cause movement farther away from the same state\n",
    "\n",
    "*Neutral Equilibrium*: when perturbed, neither returns to nor moves farther away from same state"
   ]
  },
  {
   "cell_type": "markdown",
   "metadata": {},
   "source": [
    "A system is *bound input bounded output (BIBO)* stable if its unit impulse response is absolutely integrable\n",
    "\n",
    "$$\n",
    "\\int_{-\\infty}^{\\infty}h(\\tau)d\\tau < {\\infty}\n",
    "$$"
   ]
  },
  {
   "cell_type": "markdown",
   "metadata": {},
   "source": [
    "BIBO stability is determined by measurement at the external terminals, making BIBO stability an external stability criterion, which may not apply to all systems. External stability can always be determined from internal stability, but the converse does not hold."
   ]
  },
  {
   "cell_type": "markdown",
   "metadata": {},
   "source": [
    "#### Internal (Asymptotic) Stability"
   ]
  },
  {
   "cell_type": "markdown",
   "metadata": {},
   "source": [
    "A system is in an *equilibrium state* if, in the absence of input, it remains in that particular state. An example of such a state for LTI systems is the *zero state,* in which all initial conditions are zero.\n",
    "\n",
    "When perturbed slightly from the zero state, the system response consists of its characteristic modes, which will decay to 0 as $t\\to\\infty$"
   ]
  },
  {
   "cell_type": "markdown",
   "metadata": {},
   "source": [
    "An LTIC System is:\n",
    "\n",
    "1. *Asymptotically stable* iff all characteristic roots are in LHP, even if some roots are repeated\n",
    "2. *Unstable* iff i and/or ii hold: i) roots in RHP, ii) repeated roots on imaginary axis\n",
    "3. *Marginally stable* iff no roots in RHP and some unrepeated roots on imaginary axis "
   ]
  },
  {
   "cell_type": "markdown",
   "metadata": {},
   "source": [
    "**Relationship Between BIBO and Asymptotic Stability**"
   ]
  },
  {
   "cell_type": "markdown",
   "metadata": {},
   "source": [
    "*External Stability* aka *Zero-State Stability*: apply external input with zero initial conditions.\n",
    "\n",
    "*Internal Stability* aka *Zero-Input Stability*: apply non-zero initial conditions and zero external input."
   ]
  },
  {
   "cell_type": "markdown",
   "metadata": {},
   "source": [
    "### S2.7 Intuitive Insights into System Behavior"
   ]
  },
  {
   "cell_type": "markdown",
   "metadata": {},
   "source": [
    "A reasonable measure of the response width is $T_h$, where\n",
    "\n",
    "$$\n",
    "T_h = \\frac{\\int_{-\\infty}^{\\infty}h(t)dt}{h(t_o)}\n",
    "$$"
   ]
  },
  {
   "cell_type": "markdown",
   "metadata": {},
   "source": [
    "In the simple case that there is one characteristic mode, such that $h(t)=Ae^{\\lambda t}u(t)$, with $\\lambda < 0$ and real:\n",
    "\n",
    "$$\n",
    "T_h = \\frac{1}{A}\\int_{0}^{\\infty}Ae^{\\lambda t}dt = -\\frac{1}{\\lambda}\n",
    "$$\n",
    "\n",
    "With multiple modes, $h(t)$ is a weighted sum of the modes and T_h is a weighted average of the time constants for each mode"
   ]
  },
  {
   "cell_type": "markdown",
   "metadata": {},
   "source": [
    "**Filtering**\n",
    "\n",
    "The time constant is related to the filtering properties of the system, such that a system with a time constant (or rise time: time it takes for unit pulse response to rise from 10% to 90% of its steady-state value) of $T_h$ acts as a low-pass filter with a cutoff frequency $f_c = \\frac{1}{T_h}$ Hz. The cutoff frequency is the frequency where the period of the sinusoid equals the time constant of the system. The cutoff frequency is also referred to as the system's *bandwidth*.\n"
   ]
  },
  {
   "cell_type": "markdown",
   "metadata": {},
   "source": [
    "**Dispersion**\n",
    "\n",
    "A system spreads out the input signal it receives, such that the duration of the output signal is longer than that of the input system, this is referred to as *signal dispersion*. Generally, the output width $T_y = T_x + T_h$.\n",
    "\n",
    "It is therefore desirable that the rate of information transmission (pulse transmission, frequently) not exceed the bandwidth of the system."
   ]
  },
  {
   "cell_type": "code",
   "execution_count": null,
   "metadata": {
    "collapsed": true
   },
   "outputs": [],
   "source": []
  }
 ],
 "metadata": {
  "kernelspec": {
   "display_name": "Python 3",
   "language": "python",
   "name": "python3"
  },
  "language_info": {
   "codemirror_mode": {
    "name": "ipython",
    "version": 3
   },
   "file_extension": ".py",
   "mimetype": "text/x-python",
   "name": "python",
   "nbconvert_exporter": "python",
   "pygments_lexer": "ipython3",
   "version": "3.4.3"
  }
 },
 "nbformat": 4,
 "nbformat_minor": 0
}
