{
 "cells": [
  {
   "cell_type": "code",
   "execution_count": 1,
   "metadata": {
    "collapsed": false
   },
   "outputs": [
    {
     "name": "stdout",
     "output_type": "stream",
     "text": [
      "Populating the interactive namespace from numpy and matplotlib\n"
     ]
    }
   ],
   "source": [
    "%pylab inline\n",
    "import numpy as np\n",
    "import matplotlib.pyplot as plt"
   ]
  },
  {
   "cell_type": "markdown",
   "metadata": {},
   "source": [
    "This notebook will feature notes and discussion on Part II of Kutner (2004) Applied Linear Statistical Models, which focuses on topics of Multiple Linear Regression.\n",
    "\n",
    "### Chapter 6 Multiple Regression I\n",
    "\n",
    "An example of a first-order multiple regression model is given by the following:\n",
    "\n",
    "$$\n",
    "Y_i = \\beta_0 + \\beta_1X_{i1} + \\beta_2X_{i2} + \\epsilon_i,\n",
    "$$\n",
    "\n",
    "where it's expected value, $E[Y_i] = \\beta_0 + \\beta_1X_{i1} + \\beta_2X_{i2}$, gives a *response surface* or *regression surface*, which in this case is a plane. In general, first order models, with *p - 1* predictors, can be written as\n",
    "\n",
    "$$\n",
    "Y_i = \\sum_{k=1}^{p-1}\\beta_{k}X_{ik} + \\epsilon_i,\n",
    "$$\n",
    "\n",
    "where we define $X_{i0} = 1$.\n",
    "\n",
    "This type of model is the *general linear regression model*, where the response variables $Y_i$ are normally distributed with $E[Y_i] = \\sum_{k=1}^{p-1}\\beta_kX_{ik}$ and constant variance $\\sigma^2$. This model assumes each predictor has an additive effect with no interactions.\n",
    "\n",
    "The general linear model encompasses models with transformed variables, where we take $Y_i'$ rather than $Y_i$, or with interaction effects, where we can take $X_{i3} = X_{i1}X_{i2}$.\n",
    "\n",
    "The term *linear* can be seen to refer to the paramaters and not the response surface itself, which may be non-linear and quite complex. Therefore, linear regression model can be written in the form:\n",
    "\n",
    "$$\n",
    "Y_i = \\sum_k c_{ik}\\beta_k + \\epsilon_i\n",
    "$$\n",
    "\n",
    "In matrix form, our model is \n",
    "\n",
    "$$ \n",
    "\\mathbf{Y} = \\mathbf{X\\beta} + \\mathbf{\\epsilon}\n",
    "$$\n",
    "\n",
    "Recall, our normal equations from minimizing $Q$ are:\n",
    "\n",
    "\\begin{align}\n",
    "\\sum_i Y_i &= n b_1 + b1\\sum_i X_i \\\\\n",
    "\\sum_iX_iY_i &= b_0\\sum_iX_i + \\sum_ib_1X_i^2 \\\\\n",
    "\\mathbf{X'Y} &= \\mathbf{X}'\\mathbf{Xb},\n",
    "\\end{align}\n",
    "\n",
    "sine we define $\\mathbf{X}$ in this case as \n",
    "\n",
    "\\begin{bmatrix}\n",
    "    1 & X_1 \\\\\n",
    "    1 & X_2 \\\\ \n",
    "    \\vdots & \\vdots \\\\\n",
    "    1 & X_n\n",
    "\\end{bmatrix}\n",
    "\n",
    "In the case of our general linear model, the likelihood function is \n",
    "\n",
    "$$\n",
    "\\mathbf{L}(\\mathbf{\\beta}, \\sigma^2) = \\frac{1}{(2\\pi\\sigma^2)^{n/2}} \\exp\\big(Y_i - \\Sigma_k(\\beta_kX_{ik})\\big)^2,\n",
    "$$\n",
    "\n",
    "which can be maximized and gives the multi-variate counterpart of the normal equations described above\n",
    "\n",
    "$$\n",
    "\\mathbf{b} = \\mathbf{X'X}^{-1}\\mathbf{X'Y}\n",
    "$$\n",
    "    \n",
    "As before, we express our estimated values as \n",
    "\n",
    "$$\n",
    "\\mathbf{\\hat{Y}} = \\mathbf{Xb} = \\mathbf{X(X'X)^{-1}X'Y} = \\mathbf{HY}.\n",
    "$$\n",
    "\n",
    "Similarly, our residuals are\n",
    "\n",
    "$$ \n",
    "\\mathbf{e} = \\mathbf{(I - H)Y}\n",
    "$$\n",
    "\n",
    "and, because $(\\mathbf{I-H})$ is idempotent\n",
    "\n",
    "$$\n",
    "\\sigma^2\\{\\mathbf{e}\\} = \\sigma^2(\\mathbf{I-H})\n",
    "$$\n",
    "\n",
    "The **Coefficient of Determination** can only increase with the addition of more X variables, as the SSE can never be larger with more X variables, and SSTO never changes.\n",
    "\n",
    "**Inferences about Regression Parameters**\n",
    "\n",
    "The $\\mathbf{E[b]} = \\mathbf{\\beta}$ and $\\sigma^2\\{\\mathbf{b}\\} = \\sigma^2(\\mathbf{X'X})^{-1}$, which is estimated by substituting MSE for $\\sigma^2$.\n",
    "\n",
    "Interval estimation and tests for $b_k$ proceed as described previously for simple linear regression.\n",
    "\n",
    "To estimate a new mean value $\\hat{Y_h}$, we evaluate $\\mathbf{X}_h'\\mathbf{b}$, where $\\mathbf{X}_h = [1, X_{h1}, X_{h2}, ... X_{h,p-1}]'$. Thus,\n",
    "\n",
    "\\begin{align}\n",
    "E[Y_h] &= \\mathbf{X}_h'\\mathbf{\\beta} \\\\\n",
    "\\sigma^2\\{Y_h\\} &= \\mathbf{X_h}'\\sigma^2\\{\\mathbf{b}\\}\\mathbf{X_h} = \\mathbf{X_h'(X'X)^{-1}X_h}\n",
    "\\end{align}\n",
    "\n",
    "**Remedial Measures and Diagnostics**\n",
    "\n",
    "It is good practice to compare the correlation between the Y's and X's and between the X's themselves as well. Examine residuals against each predictor and over time. Perform F test for lack of fit."
   ]
  },
  {
   "cell_type": "code",
   "execution_count": 2,
   "metadata": {
    "collapsed": false
   },
   "outputs": [],
   "source": [
    "X1 = [68.5, 45.2, 91.3, 47.8, 46.9, 66.1, 49.5, 52, 48.9, 38.4, 87.9, 72.8, 88.4, 42.9, 52.5, 85.7, 41.3, 51.7, 89.6, 82.7, 52.3]\n",
    "X2 = [16.7, 16.8, 18.2, 16.3, 17.3, 18.2, 15.9, 17.2, 16.6, 16, 18.3, 17.1, 17.4, 15.8, 17.8, 18.4, 16.5, 16.3, 18.1, 19.1, 16]\n",
    "Y = [174.4, 164.4, 244.2, 154.6, 181.6, 207.5, 152.8, 163.2, 145.4, 137.2, 241.9, 191.1, 232, 145.3, 161.1, 209.7, 146.4, 144, 232.6, 224.1, 166.5]\n",
    "\n",
    "X = np.transpose(np.matrix([np.ones(np.shape(X1)), np.transpose(X1), np.transpose(X2)]))"
   ]
  },
  {
   "cell_type": "code",
   "execution_count": 3,
   "metadata": {
    "collapsed": false
   },
   "outputs": [
    {
     "name": "stderr",
     "output_type": "stream",
     "text": [
      "/usr/local/lib/python3.4/site-packages/matplotlib/collections.py:590: FutureWarning: elementwise comparison failed; returning scalar instead, but in the future will perform elementwise comparison\n",
      "  if self._edgecolors == str('face'):\n"
     ]
    },
    {
     "data": {
      "image/png": "[encoded data removed]",
      "text/plain": [
       "<matplotlib.figure.Figure at 0x10a762358>"
      ]
     },
     "metadata": {},
     "output_type": "display_data"
    }
   ],
   "source": [
    "from mpl_toolkits.mplot3d import Axes3D\n",
    "import matplotlib.pyplot as plt\n",
    "\n",
    "fig = plt.figure()\n",
    "ax = fig.add_subplot(111, projection='3d')\n",
    "ax.scatter(X1, X2, Y, 'ko')\n",
    "ax.set_xlabel('TargetPop')\n",
    "ax.set_ylabel('DispoInc')\n",
    "ax.set_zlabel('Sales')\n",
    "plt.show()"
   ]
  },
  {
   "cell_type": "code",
   "execution_count": 4,
   "metadata": {
    "collapsed": false
   },
   "outputs": [
    {
     "data": {
      "text/plain": [
       "[<matplotlib.lines.Line2D at 0x10a92f908>]"
      ]
     },
     "execution_count": 4,
     "metadata": {},
     "output_type": "execute_result"
    },
    {
     "data": {
      "image/png": "[encoded data removed]",
      "text/plain": [
       "<matplotlib.figure.Figure at 0x10a797e10>"
      ]
     },
     "metadata": {},
     "output_type": "display_data"
    }
   ],
   "source": [
    "# We estimate b with inv(X'X)*X'Y\n",
    "Y = np.matrix(Y)\n",
    "b = np.linalg.inv(np.transpose(X)*X)*np.transpose(X)*np.transpose(Y)\n",
    "e = np.transpose(Y) - X*b\n",
    "plt.plot(e, marker='o')"
   ]
  },
  {
   "cell_type": "markdown",
   "metadata": {},
   "source": [
    "### Chapter 7 Multiple Regression II\n",
    "\n",
    "This chapter covers topics including: extra sums of squares, standardized regression, and collinearity.\n",
    "\n",
    "**Extra Sum of Squares**\n",
    "\n",
    "Measures the marginal reduction in the error sum of squares when one or more predictor variables are added to the model, given the presence of certain other predictor variables. Reducing the SSE will lead to an increase in SSR because SSTO = SSE + SSR.\n",
    "\n",
    "The Extra Sum of Squares is used to test whether regression coefficients can be dropped from the model. We know that one way to test this is with the test statistic\n",
    "\n",
    "$$\n",
    "t^* = \\frac{b_k}{s\\{b_k\\}}\n",
    "$$\n",
    "\n",
    "Equivalently we can use the *general linear test* approach.\n",
    "\n",
    "Consider the **full** model, \n",
    "\n",
    "$$\n",
    "Y_i = \\beta_0 + \\beta_1X_{i1} + \\beta_2X_{i2} + \\beta_3X_{i3} + \\epsilon\n",
    "$$\n",
    "\n",
    "where we want to test whether $\\beta_3 = 0$ or not.\n",
    "\n",
    "The **reduced** model would then be\n",
    "\n",
    "$$\n",
    "Y_i = \\beta_0 + \\beta_1X_{i1} + \\beta_2X_{i2} + \\epsilon\n",
    "$$\n",
    "\n",
    "and the relevant SSE's would be SSE(F) = SSE($X_1, X_2, X_3$) and SSE(R) = SSE($X_1, X_2$). \n",
    "\n",
    "We use the $F^*$ statistic, where in this case\n",
    "\n",
    "\\begin{align}\n",
    "F^* = \\frac{SSE(R)-SSE(F)}{df_R - df_F} \\div \\frac{SSE(F)}{df_F} =& \\frac{SSE(X_1,X_2)-SSE(X_1,X_2,X_3)}{df_R - df_F} \\div \\frac{SSE(X_1, X_2, X_3)}{df_F} \\\\\n",
    "&= \\frac{SSR(X_3 | X_1, X_2)}{1} \\div \\frac{SSE(X_1,X_2,X_3)}{df_F} = \\frac{MSR(X_3|X_1,X_2)}{MSE(X_1,X_2,X_3)}\n",
    "\\end{align}\n",
    "\n",
    "To test subsets of coefficients at a time, simply use the appropriate marginal test with corresponding SSE.\n",
    "\n",
    "Similarly, there are *coefficients of partial determination*, for example $R^2_{Yi|j}$, but this can be extended to include more than one given variable. These CoPD quantify the fraction reduction in SSE when one variable is added given the presence of other predictors.\n",
    "\n",
    "**Standardized Regression Model**\n",
    "\n",
    "Roundoff errors in computation of normal equations can be a problem with large numbers of variables, particularly when taking the inverse of $\\mathbf{X'X}$. One cause of these errors is if the variables are of different magnitudes and so $\\mathbf{X'X}$ covers a wide range. In this case, the correlation transformation is useful. This transformation is also useful as regression coefficients can then be compared with one another, as they will be in the same units.\n",
    "\n",
    "\n",
    "**Multicollinearity** \n",
    "\n",
    "Refers to the case where the response and/or predictor variables are correlated amongst themselves. \n",
    "\n",
    "When the predictor variables are uncorrelated, the coefficients $\\beta_i$ attain the same values regardless of which subset of uncorrelated predictor variables is included. Additionally, the marginal contribution of one predictor variable in reducing the error sum of squares when it is added to a model with other predictors is the same as its contribution when modeled alone.\n",
    "\n",
    "When two predictor variables are perfectly correlated and there is no random error in the response variable, to take an idealized example, there will be infinitely many possible response surfaces to fit. In a more realistic scenario, the regression coefficients will have very high sampling variability. Essentially, the simple interpretation of coefficients modeling marginal effects, while other predictors are held constant, on the response is no longer valid with multicollinearity.\n",
    "\n",
    "A further issue comes in testing the $\\beta_k$ and trying to determine whether there is a regression relation. The overall F test for whether all $\\beta_k = 0$ would show a regression relation, but performing the marginal $t^*$ tests on each $\\beta_k$ individually would suggest that each is equal to zero because their marginal contribution given the presence of the other predictors (with which they are correlated) would be quite small."
   ]
  },
  {
   "cell_type": "markdown",
   "metadata": {},
   "source": [
    "### Chapter 8: Regression Models for Quantitative and Qualitative Predictors\n",
    "\n",
    "In this chapter we focus on methods for modeling with quantitative predictors, qualitative predictors and combinations of the two. We introduce interaction and polynomial terms for the quantitative models and indicator variables for the qualitative predictors.\n",
    "\n",
    "**Polynomial Regression Models**\n",
    "\n",
    "In general, polynomial models provide good approximations to curvilinear response functions. However, there is a major risk with extrapolation in these models beyond the range of the fitted data.\n",
    "\n",
    "*Single Predictor, Second Order*\n",
    "\n",
    "Here our model is:\n",
    "\n",
    "\\begin{align}\n",
    "Y_i &= \\beta_0 + \\beta_1x_i + \\beta_2x^2_i + \\epsilon_i, where \\\\\n",
    "x_i &= X_i - \\bar{X}\n",
    "\\end{align}\n",
    "\n",
    "The $X_i$ are centered in the model as this has the effect of reducing multicollinearity between $X_i$ and $X^2_i$, which would otherwise (likely) be strongly correlated, causing computational difficulties when inverting $\\mathbf{X'X}$. Here the regression coefficient $\\beta_0$ represents the mean response of $Y$ when $x=X-\\bar{X}=0$.\n",
    "\n",
    "The problem of extrapolation, and over-fitting, becomes more exaggerated with higher-order polynomials. For instance, a dataset with $n$ points will be fit perfectly by a polynomial with order $n-1$.\n",
    "\n",
    "*Two Predictors, Second Order*\n",
    "\n",
    "Here our model is:\n",
    "\n",
    "\\begin{align}\n",
    "Y_i &= \\beta_0 + \\beta_1x_{i1} + \\beta_{11}x^2_{i1} + \\beta_2x_{i2} + \\beta_{22}x^2_{i2} + \\beta_{12}x_{i1}x_{i2} + \\epsilon_i, where \\\\\n",
    "x_{i1} &= X_{i1} - \\bar{X_1} \\\\\n",
    "x_{i2} &= X_{i2} - \\bar{X_2}\n",
    "\\end{align}\n",
    "\n",
    "Here, we changed the subscripts of our $\\beta$ coefficients to more clearly associate them with a predictor. Additionally, there is a third second-order term related to the interaction between the two predictors. With higher-order models, there will be an interaction term for each predictor pair. That is, with order $n$, there will be $n(n-1)/2$ interaction terms. \n",
    "\n",
    "Best practice procedure for fitting this type of model is as follows:\n",
    "\n",
    "1. Fit model\n",
    "2. Examine residuals\n",
    "3. Perform fit tests, partial F tests\n",
    "4. Revise order of model, predictors used as appropriate and repeat\n",
    "\n",
    "**Interaction Regression Models**\n",
    "\n",
    "A general linear model is considered additive, or rather the effects of the predictors on the response are additive, when the model can be written in the following form:\n",
    "\n",
    "$$\n",
    "E[Y] = f_1(X_1) + f_2(X_2) + ... + f_{p-1}(X_{p-1})\n",
    "$$\n",
    "\n",
    "Thus, for example, the effects of $X_1, X_2$ in following second-order model are additive, as\n",
    "\n",
    "\\begin{align}\n",
    "E[Y] &= \\beta_0 + \\beta_1X_1 + \\beta_2X^2_1 + \\beta_3X_2 = f_1(X_1) + f_2(X_2) \\\\\n",
    "f_1(X_1) &= \\beta_0 + \\beta_1X_1 + \\beta_2X^2_1 \\\\\n",
    "f_2(X_2) &= \\beta_3X_2\n",
    "\\end{align}\n",
    "\n",
    "With the presence of interaction terms, the meaning of the coefficients changes from the additive case. In the additive case $\\beta_1$ refers to the increase in $Y$ resulting from a unit increase in $X_1$. In the case of the following model with an interaction term,\n",
    "\n",
    "$$\n",
    "Y = \\beta_0 + \\beta_1X_1 + \\beta_2X_2 + \\beta_3X_1X_2 + \\epsilon,\n",
    "$$\n",
    "\n",
    "the effect of a unit increase in $X_1$ is $\\beta_1 + \\beta_3X_2$.\n",
    "\n",
    "**Qualitative Predictors**\n",
    "\n",
    "Qualitative predictors require a quantitative indicator, and frequently binary variables are used. For a qualitative variable with $c$ classes, $c-1$ binary indicator variables are used, as using $c$ variables would lead to a less than full rank $\\mathbf{X}$ matrix, preventing an inversion of $\\mathbf{X'X}$. \n",
    "\n",
    "Typical interaction terms can be introduced in this type of regression model.\n",
    "\n",
    "**Comparison of Regression Functions**\n",
    "\n",
    "One option for comparing regression functions is through the use of indicator variables. We consider the different populations as classes of the indicator variable, define indicator variables for the classes, and develop a regression model containing appropriate interaction terms.\n",
    "\n",
    "If we have a two, first-order, single predictor regression functions, we can combine them with a class indicator variable and include, at least initially, an interaction term, to allow for both different intercepts and different slopes.\n",
    "\n",
    "$$\n",
    "Y = \\beta_0 + \\beta_1X_1 + \\beta_2X_2 + \\beta_3X_1X_2\n",
    "$$\n",
    "\n",
    "where $X_2$ is a binary indicator variable for function class. It is important to check for equality of variances in the error terms for the two populations. One could use the Brown-Forsythe test, for example. Identity of the regression functions is determined by testing \n",
    "\n",
    "\\begin{align}\n",
    "H_0 &: \\beta_2 = \\beta_3 = 0 \\\\\n",
    "H_a &: \\beta_2, \\beta_3 \\neq 0\n",
    "\\end{align}\n",
    "\n",
    "We use the partial F test, where our statistic is\n",
    "\n",
    "$$\n",
    "F^* = \\frac{MSE(X_2,X_1X_2|X_1)}{MSE(X_1,X_2,X_1X_2)}\n",
    "$$\n",
    "\n",
    "If $H_a$ is accepted, the regression functions are not the same. We can then test whether the slopes are different using a t-test or another partial F test focusing on $\\beta_3$. \n",
    "\n",
    "\n"
   ]
  },
  {
   "cell_type": "code",
   "execution_count": null,
   "metadata": {
    "collapsed": true
   },
   "outputs": [],
   "source": []
  }
 ],
 "metadata": {
  "kernelspec": {
   "display_name": "Python 3",
   "language": "python",
   "name": "python3"
  },
  "language_info": {
   "codemirror_mode": {
    "name": "ipython",
    "version": 3
   },
   "file_extension": ".py",
   "mimetype": "text/x-python",
   "name": "python",
   "nbconvert_exporter": "python",
   "pygments_lexer": "ipython3",
   "version": "3.4.3"
  }
 },
 "nbformat": 4,
 "nbformat_minor": 0
}
