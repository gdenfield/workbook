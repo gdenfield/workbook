{
 "cells": [
  {
   "cell_type": "code",
   "execution_count": 10,
   "metadata": {
    "collapsed": true
   },
   "outputs": [],
   "source": [
    "import numpy as np\n",
    "import matplotlib.pyplot as plt\n",
    "%matplotlib inline\n",
    "%config InlineBackend.figure_format = 'svg'"
   ]
  },
  {
   "cell_type": "markdown",
   "metadata": {},
   "source": [
    "### A Matrix Based Approach to Computing the Output of a Neural Network"
   ]
  },
  {
   "cell_type": "markdown",
   "metadata": {},
   "source": [
    "To begin let's describe some notation.\n",
    "1. $w_{jk}^l$ is the weight from neuron $k$ in the $(l-1)^{th}$ layer to neuron $j$ in the $l^{th}$\n",
    "2. $b_j^l$ is the bias of neuron $j$ in layer $l$\n",
    "3. $a_j^l$ is the activation of neuron $j$ in layer $l$\n",
    "\n",
    "With this notation, we can write the activation\n",
    "$$\n",
    "a_j^l = \\sigma\\big(\\sum_kw_{jk}^la_k^{(l-1)} + b_j^l\\big)\n",
    "$$\n",
    "\n",
    "In matrix form, vectorizing $\\sigma(\\cdot)$\n",
    "$$\n",
    "\\mathbf{a}^l = \\sigma(\\mathbf{z}^l) = \\sigma\\big(\\mathbf{W}^l\\mathbf{a}^{l-1} + \\mathbf{b}^l\\big)\n",
    "$$"
   ]
  },
  {
   "cell_type": "markdown",
   "metadata": {},
   "source": [
    "Revisiting our cost function, we write\n",
    "$$\n",
    "C = \\frac{1}{2n}\\sum_x\\|\\mathbf{y}(x) - \\mathbf{a}^L(x)\\|^2\n",
    "$$\n",
    "\n",
    "First, we need to be able to write our cost function as an average of cost functions for individual data points (which we can do in this case): $C = \\frac{1}{n}\\sum_xC_x$. Second, we must be able to write the cost function as a function of the network output (which we also can do in this case). So for a given input $x$, our cost function evaluation looks like:\n",
    "$$\n",
    "C_x = C = \\frac{1}{2}\\|\\mathbf{y} - \\mathbf{a}^L\\|^2 = \\frac{1}{2}\\sum_j(y_j - a_j^L)^2\n",
    "$$\n",
    "\n",
    "Below is an example of an operation that we will be making consistent use of, called the *Hadamard* or *Schur* product. This is an elementwise multiplication of two vectors rather than the dot product:"
   ]
  },
  {
   "cell_type": "code",
   "execution_count": 9,
   "metadata": {
    "collapsed": false
   },
   "outputs": [
    {
     "data": {
      "text/plain": [
       "array([10, 12])"
      ]
     },
     "execution_count": 9,
     "metadata": {},
     "output_type": "execute_result"
    }
   ],
   "source": [
    "a = array([2, 4])\n",
    "b = array([5, 3])\n",
    "a*b"
   ]
  },
  {
   "cell_type": "markdown",
   "metadata": {},
   "source": [
    "### The Equations of Backpropagation"
   ]
  },
  {
   "cell_type": "markdown",
   "metadata": {},
   "source": [
    "We begin by introducing the concept of an *error* $\\delta_j^l$ for the $j^{th}$ neuron in layer $l$.\n",
    "\n",
    "$$\n",
    "\\delta_j^l = \\frac{{\\partial C}}{{\\partial z_j^l}}\n",
    "$$\n",
    "\n"
   ]
  },
  {
   "cell_type": "markdown",
   "metadata": {},
   "source": [
    "**BP Equation 1**: error at the output layer\n",
    "$$\n",
    "\\delta_j^L = \\frac{\\partial C}{\\partial a_j^L}\\sigma'(z_j^L)\n",
    "$$\n",
    "\n",
    "The input to neuron $j$ in layer $L$, $z_j^L$ is calculated while computing hte behavior of the network. This is simply passed through the derivative of the sigmoid function, $\\sigma'$, and this multiplies the derivative of the cost function with respect to activation $a_j^L$ of neuron $j$ in layer $L$. With our cost function from above for a single input data point,\n",
    "\n",
    "$$\n",
    "\\frac{\\partial C}{\\partial a_j^L} = (a_j - y_j)\n",
    "$$"
   ]
  },
  {
   "cell_type": "markdown",
   "metadata": {
    "collapsed": true
   },
   "source": [
    "In matrix notation we have the following,\n",
    "$$\n",
    "\\delta^L = \\nabla_a{C}\\odot\\sigma'(z^L) = (y-a^L)\\odot\\sigma'(z^L)\n",
    "$$"
   ]
  },
  {
   "cell_type": "code",
   "execution_count": null,
   "metadata": {
    "collapsed": true
   },
   "outputs": [],
   "source": []
  }
 ],
 "metadata": {
  "kernelspec": {
   "display_name": "Python 3",
   "language": "python",
   "name": "python3"
  },
  "language_info": {
   "codemirror_mode": {
    "name": "ipython",
    "version": 3
   },
   "file_extension": ".py",
   "mimetype": "text/x-python",
   "name": "python",
   "nbconvert_exporter": "python",
   "pygments_lexer": "ipython3",
   "version": "3.4.3"
  }
 },
 "nbformat": 4,
 "nbformat_minor": 0
}
