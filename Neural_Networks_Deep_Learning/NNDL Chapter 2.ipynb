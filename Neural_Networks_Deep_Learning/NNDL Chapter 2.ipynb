{
 "cells": [
  {
   "cell_type": "code",
   "execution_count": 11,
   "metadata": {
    "collapsed": true
   },
   "outputs": [],
   "source": [
    "import numpy as np\n",
    "import matplotlib.pyplot as plt\n",
    "%matplotlib inline\n",
    "%config InlineBackend.figure_format = 'svg'"
   ]
  },
  {
   "cell_type": "markdown",
   "metadata": {},
   "source": [
    "### A Matrix Based Approach to Computing the Output of a Neural Network"
   ]
  },
  {
   "cell_type": "markdown",
   "metadata": {},
   "source": [
    "To begin let's describe some notation.\n",
    "1. $w_{jk}^l$ is the weight from neuron $k$ in the $(l-1)^{th}$ layer to neuron $j$ in the $l^{th}$\n",
    "2. $b_j^l$ is the bias of neuron $j$ in layer $l$\n",
    "3. $a_j^l$ is the activation of neuron $j$ in layer $l$\n",
    "\n",
    "With this notation, we can write the activation\n",
    "$$\n",
    "a_j^l = \\sigma\\big(\\sum_kw_{jk}^la_k^{(l-1)} + b_j^l\\big)\n",
    "$$\n",
    "\n",
    "In matrix form, vectorizing $\\sigma(\\cdot)$\n",
    "$$\n",
    "\\mathbf{a}^l = \\sigma(\\mathbf{z}^l) = \\sigma\\big(\\mathbf{W}^l\\mathbf{a}^{l-1} + \\mathbf{b}^l\\big)\n",
    "$$"
   ]
  },
  {
   "cell_type": "markdown",
   "metadata": {},
   "source": [
    "Revisiting our cost function, we write\n",
    "$$\n",
    "C = \\frac{1}{2n}\\sum_x\\|\\mathbf{y}(x) - \\mathbf{a}^L(x)\\|^2\n",
    "$$\n",
    "\n",
    "First, we need to be able to write our cost function as an average of cost functions for individual data points (which we can do in this case): $C = \\frac{1}{n}\\sum_xC_x$. Second, we must be able to write the cost function as a function of the network output (which we also can do in this case). So for a given input $x$, our cost function evaluation looks like:\n",
    "$$\n",
    "C_x = C = \\frac{1}{2}\\|\\mathbf{y} - \\mathbf{a}^L\\|^2 = \\frac{1}{2}\\sum_j(y_j - a_j^L)^2\n",
    "$$\n",
    "\n",
    "Below is an example of an operation that we will be making consistent use of, called the *Hadamard* or *Schur* product. This is an elementwise multiplication of two vectors rather than the dot product:"
   ]
  },
  {
   "cell_type": "code",
   "execution_count": 9,
   "metadata": {
    "collapsed": false
   },
   "outputs": [
    {
     "data": {
      "text/plain": [
       "array([10, 12])"
      ]
     },
     "execution_count": 9,
     "metadata": {},
     "output_type": "execute_result"
    }
   ],
   "source": [
    "a = array([2, 4])\n",
    "b = array([5, 3])\n",
    "a*b"
   ]
  },
  {
   "cell_type": "markdown",
   "metadata": {},
   "source": [
    "### The Equations of Backpropagation"
   ]
  },
  {
   "cell_type": "markdown",
   "metadata": {},
   "source": [
    "We begin by introducing the concept of an *error* $\\delta_j^l$ for the $j^{th}$ neuron in layer $l$.\n",
    "\n",
    "$$\n",
    "\\delta_j^l = \\frac{{\\partial C}}{{\\partial z_j^l}}\n",
    "$$\n",
    "\n"
   ]
  },
  {
   "cell_type": "markdown",
   "metadata": {},
   "source": [
    "**BP Equation 1**: error at the output layer\n",
    "$$\n",
    "\\delta_j^L = \\frac{\\partial C}{\\partial a_j^L}\\sigma'(z_j^L)\n",
    "$$\n",
    "\n",
    "The input to neuron $j$ in layer $L$, $z_j^L$ is calculated while computing hte behavior of the network. This is simply passed through the derivative of the sigmoid function, $\\sigma'$, and this multiplies the derivative of the cost function with respect to activation $a_j^L$ of neuron $j$ in layer $L$. With our cost function from above for a single input data point,\n",
    "\n",
    "$$\n",
    "\\frac{\\partial C}{\\partial a_j^L} = (a_j - y_j)\n",
    "$$"
   ]
  },
  {
   "cell_type": "markdown",
   "metadata": {
    "collapsed": true
   },
   "source": [
    "In matrix notation we have the following,\n",
    "$$\n",
    "\\mathbf{\\delta}^L = \\nabla_a{C}\\odot\\sigma'(\\mathbf{z}^L) = (\\mathbf{y}-\\mathbf{a}^L)\\odot\\sigma'(\\mathbf{z}^L)\n",
    "$$\n",
    "\n",
    "or equivalently, without using the Hadamard product,\n",
    "\n",
    "$$\n",
    "\\mathbf{\\delta}^L = \\Sigma'(z^L)\\nabla_a{C},\n",
    "$$\n",
    "\n",
    "where $\\Sigma'(z^L)$ is a square matrix with diagonal entries $\\Sigma_{jj}' = \\sigma'(z_j^L)$"
   ]
  },
  {
   "cell_type": "markdown",
   "metadata": {
    "collapsed": true
   },
   "source": [
    "**BP Equation 2**: error $\\delta^l$ in terms of error in the next layer $\\delta^{l+1}$\n",
    "$$\n",
    "\\mathbf{\\delta}^l = (\\mathbf{W}^{l+1})^T\\mathbf{\\delta}^{l+1} \\odot \\sigma'(\\mathbf{z}^{l})\n",
    "$$"
   ]
  },
  {
   "cell_type": "markdown",
   "metadata": {},
   "source": [
    "The weight matrix $\\mathbf{W}$, we will recall, has elements $w_{jk}$ equal to the weight from neuron $k$ onto neuron $j$ in the next layer. Thus, a row in $\\mathbf{W}$ relates all neurons in the previous layer to one particular neuron $j$ in the next layer. The transpose therefore relates one neuron in layer $l+1$ to each neuron in the previous layer $l$, meaning in the equation above we relate the error in layer $l+1$ to neurons of layer $l$.\n",
    "\n",
    "In matrix form we can rewrite BP2 as:\n",
    "$$\n",
    "\\delta_l = \\Sigma'(z^l)(\\mathbf{W}^{l+1})^T\\delta^{l+1}\n",
    "$$\n",
    "\n",
    "Then using BP1 and repeatedly applying BP2 we can work the errors through each layer of the network from last to first."
   ]
  },
  {
   "cell_type": "markdown",
   "metadata": {},
   "source": [
    "**BP Equation 3**: the change in cost with respect to change in bias in layer $l$ is equal to the error in layer $l$:\n",
    "\n",
    "$$\n",
    "\\frac{\\partial C}{\\partial \\mathbf{b}^l} = \\mathbf{\\delta}^l\n",
    "$$"
   ]
  },
  {
   "cell_type": "markdown",
   "metadata": {},
   "source": [
    "**BP Equation 4**: the change in cost with respect to change in weight in layer $l$:\n",
    "\n",
    "$$\n",
    "\\frac{\\partial C}{\\partial w_{jk}^l} = a_k^{l-1}\\mathbf{\\delta}_j^l\n",
    "$$\n",
    "\n",
    "One consequence we can read out from this is that neurons with small activations lead to only small changes in $\\partial C$, so are said to *learn slowly*. More generally, slow learning occurs when either the input neuron has low activation or the output neuron is nearly saturated."
   ]
  },
  {
   "cell_type": "markdown",
   "metadata": {},
   "source": [
    "Ultimately all of these equations are the consequence of the chain rule and expressing the partial derivative of the cost function $C$ with respect to one parameter or variable in terms of the partial derivatives with respect to others. It essentially all boils down to: \n",
    "\n",
    "$$\n",
    "\\frac{\\partial C}{\\partial a^l}\\frac{\\partial a^l}{\\partial z^l}\\frac{\\partial z^l}{\\partial w^l},\n",
    "$$\n",
    "\n",
    "or $\\frac{\\partial z^l}{\\partial b^l}$."
   ]
  },
  {
   "cell_type": "markdown",
   "metadata": {},
   "source": [
    "**The Backpropagation Algorithm**\n",
    "\n",
    "The algorithm consists of 5 steps.\n",
    "\n",
    "1. **Input** x: set the corresponding activation, $\\mathbf{a}^1$, for the input layer\n",
    "2. **Feedforward**: for each layer, $l = 2, 3, ... L$, compute $\\mathbf{z}^l = \\mathbf{W}^l\\mathbf{a}^{l-1} + \\mathbf{b}^l$ and $\\mathbf{a}^l = \\sigma(\\mathbf{z}^l)$\n",
    "3. **Output error** $\\delta^L$: Compute the error in the last layer, $\\delta^L = \\mathbf{\\Sigma}'(\\mathbf{z}^L)\\nabla_aC$\n",
    "4. **Backpropagate the error**: For each layer $l = L-1, L-2, ... 2$, compute $\\delta^l = \\mathbf{\\Sigma}'(\\mathbf{z}^L)(\\mathbf{W}^{l+1})^T\\delta^{l+1}$\n",
    "5. **Output**: The gradient of the cost function is given by $\\frac{\\partial C}{\\partial w_{jk}^l} = a_k^{l-1}\\delta_j^l$ and $\\frac{\\partial C}{\\partial b_j^l} = \\delta_j^l$\n",
    "\n",
    "Now, to update the weights, we need to combine these steps with stochastic gradient descent, which we can do in the following manner:\n",
    "\n",
    "1. **Input** training data\n",
    "2. **Set input activation** $a^{x,1}$ for each training example $x$ in the mini-batch\n",
    "3. Perform steps 2 through 4 above\n",
    "4. **Gradient descent** For each layer $l=L,L-2,...2$ update weights and biases according to: $w^l \\to w^l - \\frac{\\eta}{m}\\sum_x\\delta^{x,l}(a^{x,l-1})^T$ and $b^l \\to b^l - \\frac{\\eta}{m}\\sum_x\\delta^{x,l}$"
   ]
  }
 ],
 "metadata": {
  "kernelspec": {
   "display_name": "Python 3",
   "language": "python",
   "name": "python3"
  },
  "language_info": {
   "codemirror_mode": {
    "name": "ipython",
    "version": 3
   },
   "file_extension": ".py",
   "mimetype": "text/x-python",
   "name": "python",
   "nbconvert_exporter": "python",
   "pygments_lexer": "ipython3",
   "version": "3.4.3"
  }
 },
 "nbformat": 4,
 "nbformat_minor": 0
}
