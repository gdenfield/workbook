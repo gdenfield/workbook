{
 "cells": [
  {
   "cell_type": "code",
   "execution_count": 18,
   "metadata": {
    "collapsed": false
   },
   "outputs": [],
   "source": [
    "import random\n",
    "import numpy as np\n",
    "\n",
    "class Network(object):\n",
    "\n",
    "    def __init__(self, sizes):\n",
    "        self.num_layers = len(sizes)\n",
    "        self.sizes = sizes\n",
    "        self.biases = [np.random.randn(y, 1) for y in sizes[1:]]\n",
    "        self.weights = [np.random.randn(y, x)\n",
    "                        for x, y in zip(sizes[:-1], sizes[1:])]\n",
    "\n",
    "    def feedforward(self, a):\n",
    "        for b, w in zip(self.biases, self.weights):\n",
    "            # computes the activation of the next layer\n",
    "            a = sigmoid(np.dot(w, a)+b)\n",
    "        return a\n",
    "\n",
    "    def SGD(self, training_data, epochs, mini_batch_size, eta,\n",
    "            test_data=None):\n",
    "        n = len(training_data)\n",
    "        for j in range(epochs):\n",
    "            random.shuffle(training_data)\n",
    "            mini_batches = [\n",
    "                training_data[k:k+mini_batch_size]\n",
    "                for k in range(0, n, mini_batch_size)]\n",
    "            for mini_batch in mini_batches:\n",
    "                self.update_mini_batch(mini_batch, eta)\n",
    "            if test_data:\n",
    "                print(\"Epoch {0}: {1} / {2}\".format(\n",
    "                    j, self.evaluate(test_data), len(test_data)))\n",
    "            else:\n",
    "                print(\"Epoch {0} complete\".format(j))\n",
    "\n",
    "    def update_mini_batch(self, mini_batch, eta):\n",
    "        nabla_b = [np.zeros(b.shape) for b in self.biases]\n",
    "        nabla_w = [np.zeros(w.shape) for w in self.weights]\n",
    "        \n",
    "        # computation of the gradient, summed over samples\n",
    "        for x, y in mini_batch:\n",
    "            delta_nabla_b, delta_nabla_w = self.backprop(x, y)\n",
    "            nabla_b = [nb+dnb for nb, dnb in zip(nabla_b, delta_nabla_b)]\n",
    "            nabla_w = [nw+dnw for nw, dnw in zip(nabla_w, delta_nabla_w)]\n",
    "            \n",
    "        # update step\n",
    "        self.weights = [w-(eta/len(mini_batch))*nw\n",
    "                        for w, nw in zip(self.weights, nabla_w)]\n",
    "        self.biases = [b-(eta/len(mini_batch))*nb\n",
    "                       for b, nb in zip(self.biases, nabla_b)]\n",
    "\n",
    "    def backprop(self, x, y):\n",
    "        nabla_b = [np.zeros(b.shape) for b in self.biases]\n",
    "        nabla_w = [np.zeros(w.shape) for w in self.weights]\n",
    "        \n",
    "        # feedforward\n",
    "        activation = x\n",
    "        activations = [x] # list to store all the activations, layer by layer\n",
    "        zs = [] # list to store all the z vectors, layer by layer\n",
    "        for b, w in zip(self.biases, self.weights):\n",
    "            z = np.dot(w, activation) + b\n",
    "            zs.append(z)\n",
    "            activation = sigmoid(z)\n",
    "            activations.append(activation)\n",
    "            \n",
    "        # backward pass\n",
    "        delta = self.cost_derivative(activations[-1], y) * sigmoid_prime(zs[-1])\n",
    "        nabla_b[-1] = delta\n",
    "        nabla_w[-1] = np.dot(delta, activations[-2].transpose())\n",
    "        \n",
    "        for l in range(2, self.num_layers):\n",
    "            z = zs[-l]\n",
    "            sp = sigmoid_prime(z)\n",
    "            delta = np.dot(self.weights[-l+1].transpose(), delta) * sp\n",
    "            nabla_b[-l] = delta\n",
    "            nabla_w[-l] = np.dot(delta, activations[-l-1].transpose())\n",
    "        return (nabla_b, nabla_w)\n",
    "\n",
    "    def evaluate(self, test_data):\n",
    "        test_results = [(np.argmax(self.feedforward(x)), y)\n",
    "                        for (x, y) in test_data]\n",
    "        return sum(int(x == y) for (x, y) in test_results)\n",
    "\n",
    "    def cost_derivative(self, output_activations, y):\n",
    "        return (output_activations-y)\n",
    "\n",
    "def sigmoid(z):\n",
    "    \"\"\"The sigmoid function.\"\"\"\n",
    "    return 1.0/(1.0+np.exp(-z))\n",
    "\n",
    "def sigmoid_prime(z):\n",
    "    \"\"\"Derivative of the sigmoid function.\"\"\"\n",
    "    return sigmoid(z)*(1-sigmoid(z))"
   ]
  },
  {
   "cell_type": "code",
   "execution_count": 16,
   "metadata": {
    "collapsed": false
   },
   "outputs": [],
   "source": [
    "import pickle\n",
    "import gzip\n",
    "import numpy as np\n",
    "\n",
    "def load_data(path=None):\n",
    "    \"\"\"Return the MNIST data as a tuple containing the training data,\n",
    "    the validation data, and the test data.\n",
    "    \"\"\"\n",
    "    if path is None:\n",
    "        path = './data/mnist.pkl.gz'\n",
    "    with gzip.open(path, 'rb') as f:\n",
    "        training_data, validation_data, test_data = pickle.load(f, encoding='bytes')\n",
    "    return (training_data, validation_data, test_data)\n",
    "\n",
    "def load_data_wrapper(path=None):\n",
    "    \"\"\"Return a tuple containing ``(training_data, validation_data,\n",
    "    test_data)``. Based on ``load_data``, but the format is more\n",
    "    convenient for use in our implementation of neural networks.\n",
    "    \"\"\"\n",
    "    tr_d, va_d, te_d = load_data(path)\n",
    "    training_inputs = [np.reshape(x, (784, 1)) for x in tr_d[0]]\n",
    "    training_results = [vectorized_result(y) for y in tr_d[1]]\n",
    "    training_data = list(zip(training_inputs, training_results))\n",
    "    validation_inputs = [np.reshape(x, (784, 1)) for x in va_d[0]]\n",
    "    validation_data = list(zip(validation_inputs, va_d[1]))\n",
    "    test_inputs = [np.reshape(x, (784, 1)) for x in te_d[0]]\n",
    "    test_data = list(zip(test_inputs, te_d[1]))\n",
    "    return (training_data, validation_data, test_data)\n",
    "\n",
    "def vectorized_result(j):\n",
    "    \"\"\"Return a 10-dimensional unit vector with a 1.0 in the jth\n",
    "    position and zeroes elsewhere.  This is used to convert a digit\n",
    "    (0...9) into a corresponding desired output from the neural\n",
    "    network.\"\"\"\n",
    "    e = np.zeros((10, 1))\n",
    "    e[j] = 1.0\n",
    "    return e"
   ]
  },
  {
   "cell_type": "code",
   "execution_count": 17,
   "metadata": {
    "collapsed": false
   },
   "outputs": [],
   "source": [
    "training_data, validation_data, test_data = load_data_wrapper('neural-networks-and-deep-learning/data/mnist.pkl.gz')"
   ]
  },
  {
   "cell_type": "code",
   "execution_count": 21,
   "metadata": {
    "collapsed": true
   },
   "outputs": [],
   "source": [
    "net = Network([784, 30, 10])"
   ]
  },
  {
   "cell_type": "code",
   "execution_count": 22,
   "metadata": {
    "collapsed": false
   },
   "outputs": [
    {
     "name": "stdout",
     "output_type": "stream",
     "text": [
      "Epoch 0: 9084 / 10000\n",
      "Epoch 1: 9273 / 10000\n",
      "Epoch 2: 9366 / 10000\n",
      "Epoch 3: 9390 / 10000\n",
      "Epoch 4: 9367 / 10000\n",
      "Epoch 5: 9419 / 10000\n",
      "Epoch 6: 9442 / 10000\n",
      "Epoch 7: 9444 / 10000\n",
      "Epoch 8: 9437 / 10000\n",
      "Epoch 9: 9456 / 10000\n",
      "Epoch 10: 9470 / 10000\n",
      "Epoch 11: 9484 / 10000\n",
      "Epoch 12: 9467 / 10000\n",
      "Epoch 13: 9484 / 10000\n",
      "Epoch 14: 9483 / 10000\n",
      "Epoch 15: 9409 / 10000\n",
      "Epoch 16: 9487 / 10000\n",
      "Epoch 17: 9468 / 10000\n",
      "Epoch 18: 9514 / 10000\n",
      "Epoch 19: 9501 / 10000\n",
      "Epoch 20: 9514 / 10000\n",
      "Epoch 21: 9513 / 10000\n",
      "Epoch 22: 9483 / 10000\n",
      "Epoch 23: 9501 / 10000\n",
      "Epoch 24: 9488 / 10000\n",
      "Epoch 25: 9513 / 10000\n",
      "Epoch 26: 9491 / 10000\n",
      "Epoch 27: 9526 / 10000\n",
      "Epoch 28: 9495 / 10000\n",
      "Epoch 29: 9514 / 10000\n",
      "CPU times: user 4min 26s, sys: 2.6 s, total: 4min 28s\n",
      "Wall time: 4min 28s\n"
     ]
    }
   ],
   "source": [
    "%%time\n",
    "net.SGD(training_data, 30, 10, 3.0, test_data=test_data )"
   ]
  },
  {
   "cell_type": "code",
   "execution_count": 25,
   "metadata": {
    "collapsed": false
   },
   "outputs": [
    {
     "data": {
      "text/plain": [
       "array([[-3.95686856, -5.13926155,  0.21301742, -4.36835137, -1.63775461,\n",
       "        -0.27143186, -3.98587543, -5.65880897,  0.8192211 , -4.06620808,\n",
       "         3.48587907,  3.36157552,  0.91130535,  2.97880063,  2.13548814,\n",
       "        -0.92985811, -1.63236895, -1.010599  , -5.10041035,  3.43950529,\n",
       "        -3.6708558 ,  1.50201692, -4.92119147,  1.22224998, -2.22827498,\n",
       "        -4.95791791,  3.69190995, -6.08567232,  0.27082904,  0.99250106],\n",
       "       [-0.29681265, -0.15629007,  4.262394  , -3.3329144 , -3.45529609,\n",
       "        -0.00975446,  1.1364299 , -5.68056897, -1.60538715, -4.41732182,\n",
       "         3.14147803,  0.01548746,  4.03083388, -6.95184216,  3.78052776,\n",
       "        -5.2746726 ,  2.08024456, -2.44843764,  3.13315504,  2.2879429 ,\n",
       "         3.98680073, -1.74497067,  2.36575591, -1.71231419, -1.0119916 ,\n",
       "        -3.85025816, -0.51302026,  1.2640674 ,  1.42546534, -1.79184247],\n",
       "       [ 0.05545381, -4.9716536 ,  2.98785458,  1.28355354, -0.88104927,\n",
       "         3.91189074, -1.20352487, -4.97114865, -0.2087434 , -0.19236182,\n",
       "        -4.17871259, -3.25786295, -3.35314429, -0.45879579, -5.42413347,\n",
       "         6.66916679, -1.02962844,  4.59806626,  4.28180567,  0.4337251 ,\n",
       "         0.86602549, -4.27858952, -2.55776547,  2.40203465,  0.91859058,\n",
       "        -0.95343749,  1.82519011, -5.29814734,  4.7042229 , -3.02568491],\n",
       "       [-2.10116664, -6.23079256, -3.49976985, -1.66984707, -1.56637836,\n",
       "         4.82842677, -0.35425003, -3.93639611,  2.78950308, -1.40921895,\n",
       "        -1.07232338, -4.50073939,  1.52061245,  0.74746175, -1.53581011,\n",
       "         1.00999613, -0.44610672,  2.66745201,  3.38871241,  0.17863697,\n",
       "         4.19056551,  2.54628241, -6.58319055, -3.42350905, -0.72219936,\n",
       "        -4.0605927 , -4.46166878,  4.37650323, -8.83650452, -2.44621713],\n",
       "       [-4.3606022 , -4.30833831,  2.95281629, -7.73408433,  0.42964929,\n",
       "        -1.93792695,  4.53425584, -1.50271179,  1.19929154,  2.39946724,\n",
       "         2.97498301,  3.57907261, -1.26498975, -2.98188782, -1.77896529,\n",
       "        -2.5492792 , -5.11922461, -3.38309428, -6.55875568, -0.26471727,\n",
       "         0.59473137, -0.60873634, -5.78387886, -1.6168135 , -5.85738429,\n",
       "         3.03038486, -1.22842028, -1.21267171, -0.89659245, -3.3678271 ],\n",
       "       [ 5.19087835,  7.0190675 , -2.91827949,  0.0819532 , -2.99559256,\n",
       "        -3.69409373, -0.39934524,  2.67413676,  5.0091166 ,  4.03375272,\n",
       "        -2.84078473,  0.80747806, -1.59067264,  0.24241153,  0.79856685,\n",
       "        -1.65285319,  2.19088851,  3.01493921, -0.51158594, -3.51164918,\n",
       "        -6.72258149, -4.43551442,  8.60486209,  1.02862475,  0.96774296,\n",
       "        -4.67522027, -6.38624529, -1.69035894, -0.45177464, -3.46126987],\n",
       "       [-0.02713814,  5.74358581,  1.23822019,  4.7618453 , -0.72244011,\n",
       "        -1.39387698,  2.00564611, -2.66871364, -1.32649382, -5.01171766,\n",
       "         1.70297072, -3.6211223 , -0.67885409, -4.7065458 ,  1.38910061,\n",
       "        -2.15033721, -2.05766437, -4.35164334, -4.26657716,  5.21993607,\n",
       "        -2.26468579,  3.79777341, -0.9976259 ,  0.02485443, -3.5016323 ,\n",
       "        -0.15186177,  0.70367997, -2.64602502,  1.34521772,  1.68959421],\n",
       "       [ 6.00862057, -2.41955752,  2.69537971, -3.14380103, -4.78831856,\n",
       "        -1.40190216, -4.35678859, -3.15692631, -2.96517525, -4.25052338,\n",
       "         2.40159   ,  2.04389921, -3.821761  ,  1.1516261 ,  0.04757159,\n",
       "        -3.07451421, -1.16673272, -1.45674128,  5.23764781, -1.98876905,\n",
       "        -2.49461204, -1.66215359,  0.94564368, -2.40360719,  2.41369006,\n",
       "         4.8377459 , -1.56957964,  5.06817162, -0.03920921, -0.88575857],\n",
       "       [-1.10415378, -4.57395361,  3.29529881, -4.20269041,  4.74407693,\n",
       "        -0.84619926,  1.89182025, -3.2888241 , -1.77842333, -2.31155236,\n",
       "        -4.28113299,  0.09024552,  0.33416743, -0.32780981, -2.92634385,\n",
       "         0.80920083,  4.71410358, -5.33042966, -4.64721726, -5.50565098,\n",
       "        -4.87044364,  1.79718811, -4.37270422,  2.90650459,  0.09931034,\n",
       "        -1.93255276, -3.02416157, -5.2660631 , -2.04049061,  4.14534743],\n",
       "       [-3.37860496,  0.43426088, -4.4698717 , -3.80104601,  3.60911709,\n",
       "         1.38960733,  4.98606047, -7.37264548, -5.36260743,  1.99011609,\n",
       "        -3.75099326, -2.48079178,  2.51449293,  3.225124  ,  2.45280151,\n",
       "         1.74275348, -6.51104922, -3.35822672, -6.89526276,  1.69785591,\n",
       "         0.66119282, -0.57681209,  0.21351219,  0.03764012,  4.51125144,\n",
       "         1.2882529 ,  1.25851244,  1.47251345,  1.04146866,  3.73809531]])"
      ]
     },
     "execution_count": 25,
     "metadata": {},
     "output_type": "execute_result"
    }
   ],
   "source": [
    "net.weights[1]"
   ]
  },
  {
   "cell_type": "code",
   "execution_count": 41,
   "metadata": {
    "collapsed": false
   },
   "outputs": [
    {
     "data": {
      "text/plain": [
       "<matplotlib.image.AxesImage at 0x1081c5390>"
      ]
     },
     "execution_count": 41,
     "metadata": {},
     "output_type": "execute_result"
    },
    {
     "data": {
      "image/png": "[encoded data removed]",
      "text/plain": [
       "<matplotlib.figure.Figure at 0x108100128>"
      ]
     },
     "metadata": {},
     "output_type": "display_data"
    }
   ],
   "source": [
    "import matplotlib.pyplot as plt\n",
    "imshow(np.reshape(training_data[0][0], [28, 28]), cmap='Greys')"
   ]
  },
  {
   "cell_type": "code",
   "execution_count": null,
   "metadata": {
    "collapsed": true
   },
   "outputs": [],
   "source": []
  }
 ],
 "metadata": {
  "kernelspec": {
   "display_name": "Python 3",
   "language": "python",
   "name": "python3"
  },
  "language_info": {
   "codemirror_mode": {
    "name": "ipython",
    "version": 3
   },
   "file_extension": ".py",
   "mimetype": "text/x-python",
   "name": "python",
   "nbconvert_exporter": "python",
   "pygments_lexer": "ipython3",
   "version": "3.4.3"
  }
 },
 "nbformat": 4,
 "nbformat_minor": 0
}
