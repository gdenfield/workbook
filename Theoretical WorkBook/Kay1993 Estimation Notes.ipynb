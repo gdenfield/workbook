{
 "cells": [
  {
   "cell_type": "code",
   "execution_count": 1,
   "metadata": {
    "collapsed": false
   },
   "outputs": [
    {
     "name": "stdout",
     "output_type": "stream",
     "text": [
      "Populating the interactive namespace from numpy and matplotlib\n"
     ]
    }
   ],
   "source": [
    "%pylab inline"
   ]
  },
  {
   "cell_type": "markdown",
   "metadata": {},
   "source": [
    "These notes are taken from reading through Kay 1993 Fundamentals of Statistical Signal Processing: Estimation Theory"
   ]
  },
  {
   "cell_type": "markdown",
   "metadata": {},
   "source": [
    "### Chapter 2 Minimum Variance Unbiased Estimation"
   ]
  },
  {
   "cell_type": "markdown",
   "metadata": {},
   "source": [
    "Our task is to use input/observed data to recover an estimate of an underlying parameter that generated that data. For example, we may be interesting in recovering the mean $\\mu$ of a particular distribution. There are two properties that are often desirable. \n",
    "\n",
    "The first is that the estimator be *unbiased*. This means that the average value of our estimator is the average value of the parameter we want to estimate.\n",
    "\n",
    "$$ \n",
    "E[\\hat{\\theta}] = \\theta\n",
    "$$\n",
    "\n",
    "The second desirable property is that this estimator be as reliable as possible, ie that the variability around our estimate is minimal. This is where the *minimum variance* criterion comes in to play. Think about this in the limit that the variability of our estimator goes to 0 - what happens in this case? We no longer have a distribution of estimates but a single estimate, which also happens to be unbiased, meaning we have recovered the extact parameter of interest.\n",
    "\n",
    "Ultimately, what we are interesting in is an optimal estimator, but we need to define optimal with respect to some criterion. The *minimum variance* criterion is very reasonable as the following exercise will show. \n",
    "\n",
    "A typical criterion for optimization is to minimize the *Mean Square Error* of an estimator:\n",
    "\n",
    "$$\n",
    "mse(\\hat{\\theta}) = E[(\\hat{\\theta}-\\theta)^2]\n",
    "$$\n",
    "\n",
    "We can see, however, that minimization of this criterion leads to the following scenario. We can rewrite the MSE as follows, by subtracting and adding $E[\\hat{\\theta}] and then grouping within the power term:\n",
    "\n",
    "\\begin{align}\n",
    "mse(\\hat{\\theta}) &= E\\big(\\big[(\\hat{\\theta} - E[\\theta]) + (E[\\theta]-\\theta)\\big]^2\\big) \\\\\n",
    "&= var(\\hat{\\theta}) + \\big[E[\\hat{\\theta}] - \\theta\\big]^2\n",
    "\\end{align}"
   ]
  },
  {
   "cell_type": "markdown",
   "metadata": {},
   "source": [
    "We can see that the MSE has two components: the variance of the estimate and the bias of the estimate. Often the bias is a function of the parameter we are trying to estimate, which leads then to an unrealizable estimator. For this reason, we restrict ourselves to the case where the bias is $0$ and try to find the *minimum variance unbiased estimator*.\n",
    "\n",
    "There is no guaranteed way to find this estimator, but there are several candidate approaches:\n",
    "\n",
    "1. Determine the Cramer Rao Lower Bound (CRLB) and check if an estimator satisfies it\n",
    "2. Apply the Rao-Blackwell-Lehmann-Scheffe Theorem\n",
    "3. Further restrict estimators to be unbiased and *linear*"
   ]
  },
  {
   "cell_type": "markdown",
   "metadata": {},
   "source": [
    "### Chapter 3 Cramer Rao Lower Bound"
   ]
  },
  {
   "cell_type": "markdown",
   "metadata": {},
   "source": [
    "**Estimator Accuracy Considerations**\n",
    "\n",
    "First of all, all of the information we have to work with is contained in the observed data and the underlying PDF that generated the data. The more strongly the PDF depends on the parameter we are trying to estimate, the easier it will generally be to estimate that parameter from the observed data. \n",
    "\n",
    "In cases such as this we are dealing with the *likelihood function* representation of a PDF. Normally a PDF shows the probability of a particular data value given certain parameters. However, in the likelihood function view, we see the PDF as a function of our unknown parameter. \n",
    "\n",
    "In the figure below on the left titled Prob X, we show the probability of x given our Parameter of interest $mu$. The \"sharpness\" of this plot, determines how well we can estimate the value of our parameter of interest. In fact, the negative of the second derivative of the log of the likelihood function serves as a way to quantify this sharpness. (On the right plot we see the Log Prob of X.)"
   ]
  },
  {
   "cell_type": "code",
   "execution_count": 16,
   "metadata": {
    "collapsed": false
   },
   "outputs": [
    {
     "data": {
      "text/plain": [
       "<matplotlib.text.Text at 0x10efad710>"
      ]
     },
     "execution_count": 16,
     "metadata": {},
     "output_type": "execute_result"
    },
    {
     "data": {
      "image/png": "[encoded data removed]",
      "text/plain": [
       "<matplotlib.figure.Figure at 0x10eff42b0>"
      ]
     },
     "metadata": {},
     "output_type": "display_data"
    }
   ],
   "source": [
    "sig2 = 1\n",
    "x = arange(0, 10, .1)\n",
    "p_x = (1/sqrt(2*pi*sig2))*exp(-(x-5)**2/(2*sig2)) # This is not written strictly as a likelihood function but the resulting graph can function as such\n",
    "ln_px = -log(sqrt(2*pi*sig2)) - (1/(2*sig2)*(x-5)**2)\n",
    "f, ax = subplots(1,2)\n",
    "ax[0].plot(x, p_x)\n",
    "ax[0].set_title('Likelihood')\n",
    "ax[1].plot(x, ln_px)\n",
    "ax[1].set_title('Log Likelihood')\n"
   ]
  },
  {
   "cell_type": "markdown",
   "metadata": {},
   "source": [
    "To see this, note that the negative of the second derivative of the log likelihood function is determined as follows:\n",
    "\n",
    "\\begin{align}\n",
    "ln p(x;\\mu) &= -ln \\sqrt{2\\pi\\sigma^2} - \\frac{1}{2\\sigma^2}(x - \\mu)^2 \\\\\n",
    "\\frac{\\partial ln p(x;\\mu)}{\\partial \\mu} &= \\frac{1}{\\sigma^2}(x - \\mu) \\\\\n",
    "-\\frac{\\partial^2 ln p(x;\\mu)}{\\partial \\mu^2} &= \\frac{1}{\\sigma^2}\n",
    "\\end{align}"
   ]
  },
  {
   "cell_type": "markdown",
   "metadata": {},
   "source": [
    "What happens as $\\sigma^2$ increases? The \"sharpness\" goes to zero, meaning our estimate converges to a particular value. Thus, this appears to be a reasonable measure of how well we can estimate our parameter of interest. In many instances, however, this second derivative will depend on our observed data. We want a \"sharpness\" indicator that is robust to this, so we take the average or expected value of the second derivative to give: \n",
    "\n",
    "$$\n",
    "-E\\Big[\\frac{\\partial^2 ln p(x; \\theta)}{\\partial \\theta^2}\\Big]\n",
    "$$\n",
    "\n",
    "where I have switched to $\\theta$ as a more general representation of a parameter of interest."
   ]
  },
  {
   "cell_type": "markdown",
   "metadata": {},
   "source": [
    "**Cramer Rao Lower Bound**\n",
    "\n",
    "In light of the above discussion we can now present the CRLB.\n",
    "\n",
    "If the regularity condition:\n",
    "\n",
    "$$\n",
    "E\\Big[\\frac{\\partial ln p(x; \\theta)}{\\partial \\theta}\\Big] = 0 \n",
    "$$\n",
    "\n",
    "is met for all $\\theta$, then the variance for an unbiased estimator satisfies:\n",
    "\n",
    "$$\n",
    "var(\\hat{\\theta}) \\geq \\frac{1}{-E\\Big[\\frac{\\partial^2 ln p(x; \\theta)}{\\partial \\theta^2}\\Big]} = \\frac{1}{I(\\theta)}.\n",
    "$$\n",
    "\n",
    "Further, an estimator that attains the bound for all $\\theta$ satisfies:\n",
    "\n",
    "$$\n",
    "\\frac{\\partial ln p(x; \\theta)}{\\partial \\theta} = I(\\theta)(g(x) - \\theta)\n",
    "$$\n",
    "\n",
    "and is equal to $g(x)$."
   ]
  },
  {
   "cell_type": "code",
   "execution_count": null,
   "metadata": {
    "collapsed": true
   },
   "outputs": [],
   "source": []
  }
 ],
 "metadata": {
  "kernelspec": {
   "display_name": "Python 3",
   "language": "python",
   "name": "python3"
  },
  "language_info": {
   "codemirror_mode": {
    "name": "ipython",
    "version": 3
   },
   "file_extension": ".py",
   "mimetype": "text/x-python",
   "name": "python",
   "nbconvert_exporter": "python",
   "pygments_lexer": "ipython3",
   "version": "3.4.3"
  }
 },
 "nbformat": 4,
 "nbformat_minor": 0
}
