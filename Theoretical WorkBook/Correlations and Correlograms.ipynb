{
 "cells": [
  {
   "cell_type": "code",
   "execution_count": 1,
   "metadata": {
    "collapsed": false,
    "scrolled": true
   },
   "outputs": [
    {
     "name": "stdout",
     "output_type": "stream",
     "text": [
      "Populating the interactive namespace from numpy and matplotlib\n"
     ]
    }
   ],
   "source": [
    "%pylab inline"
   ]
  },
  {
   "cell_type": "markdown",
   "metadata": {},
   "source": [
    "In this document we will be discussing approaches to investigate neuronal correlations and synchrony using correlograms.\n",
    "\n",
    "We will first focus on a more theoretical paper: \n",
    "\n",
    "### Perkel et al (1967) *Neuronal Spike Trains and Stochastic Point Processes I*\n",
    "\n",
    "In the present work, we deal with spike trains which are viewed as indistinguishable, \"all-or-none\" events occurring over time and exhibiting a high degree of variability or seeming randomness. Thus, we treat these spike trains as *stochastic point processes*.\n",
    "\n",
    "In point processes where events are indistinguishable (a spike being present) except the time of occurrence of the event, the intervals between events take on the properties of random variables, and as such are considered to be drawn (not necessarily independently) from a certain probability distribution. First, we deal with *stationary* point processes, where the parameters of the distribution generating the interspike intervals are steady over time.\n",
    "\n",
    "A *renewal process* is a stationary point process in which the intervals between events are independent.\n",
    "\n",
    "**Order-Idenependent Statistical Measures**\n",
    "\n",
    "For renewal point processes, the (marginal) distribution of intervals between successive events completely characterizes the process. The interspike-interval histogram"
   ]
  },
  {
   "cell_type": "markdown",
   "metadata": {},
   "source": [
    "###Brody (1999) *Correlations without Synchrony*\n",
    "\n",
    "A standard method for determining the presence of interactions between the spike trains of two neurons is to calculate a *shuffle-corrected cross-correlogram*, or *co-variogram*. Stricly speaking, peaks in covariograms reflect that the spike trains are not independent, but this dependence could arise from multiple sources. This paper focuses on three such sources, *spike-timing*, *latency*, and *excitability* covariations.\n",
    "\n",
    "$S_i^r(t)$ is the spike train of cell $i$, on trial $r$, where the spike train is a function of time. The *cross-correlogram* for each trial is given by:\n",
    "\n",
    "$$\n",
    "C^r(\\tau) = \\sum_{t = -\\infty}^{\\infty}S_1^r(t)S_2^r(t+\\tau) = S_1^r \\odot S_2^r\n",
    "$$\n",
    "\n",
    "We now define $P_i(t) = \\langle S_i^r(t)\\rangle$, where $\\langle \\rangle$ denotes an average across trials, $r$. This is the PSTH of neuron $i$ if the times are relative to a stimulus. We then define the covariogram of $S_1$ and $S_2$ as:\n",
    "\n",
    "$$\n",
    "V = \\langle (S_1^r - P_1) \\odot (S_2^r - P_2) \\rangle = \\langle S_1^r \\odot S_2^r \\rangle - P_1 \\odot P_2 = R - K,\n",
    "$$\n",
    "\n",
    "where $R$ is the *raw cross-correlogram* and $K$ is the *shuffle-corrector*. This can be verified by expanding the original expression and pushing through the sums, such that, for example:\n",
    "\n",
    "$$\n",
    "\\langle \\sum_t P_1(t)S_2^r(t+\\tau) \\rangle = \\sum_t P_1(t) \\langle S_2^r(t+\\tau) \\rangle = \\sum_t P_1(t) P_2(t+\\tau) = P_1 \\odot P_2.\n",
    "$$\n",
    "\n",
    "If $S_1$ and $S_2$ are independent, then $E[V] = 0$, so departures from $0$ indicate dependence. One may ask what counts as a significant departure from $0$, however, and answering this requires further assumptions. We would additionally assume that different trials $r$ are independent of one another and different bins within a trial are independent of one another. Under these circumstances one can calculate the variance of $V$ \n",
    "\n",
    "$$\n",
    "\\sigma_V^2 = \\frac{1}{N_{trials}}(\\sigma_1^2 \\odot \\sigma_2^2 + P_1^2 \\odot \\sigma_2^2 + P_2^2 \\odot \\sigma_1^2)\n",
    "$$\n",
    "\n",
    "where sample means and variances are most typically used. A $2\\sigma$ limit is reasonable, particularly is a further Gaussian assumption is made, as this would then correspond to 95% CI's. To verify the above expression, consider the variance of a product of two independent scalars $x$ and $y$:\n",
    "\n",
    "$$\n",
    "Var(xy) = E[x^2]E[y^2] - E[x]^2E[y]^2 = (\\sigma_x^2 + p_x^2)(\\sigma_y^2 + p_y^2) - p_x^2p_y^2 = \\sigma_x^2\\sigma_y^2 + \\sigma_x^2p_y^2 + \\sigma_y^2p_x^2\n",
    "$$\n",
    "\n",
    "We will also make use of the Joint Peri-Stimulus Time Histogram (JPSTH), giving a matrix of covariances\n",
    "\n",
    "$$\n",
    "J(t_1,t_2) = \\langle S_1^r(t_1)S_2^r(t_2) \\rangle - \\langle S_1^r(t_1) \\rangle \\langle S_2^r(t_2) \\rangle,\n",
    "$$\n",
    "\n",
    "which we can normalize to give a matrix of correlation coefficients\n",
    "\n",
    "$$\n",
    "J_N(t_1,t_2) = \\frac{J(t_1,t_2)}{\\sigma_1(t_1)\\sigma_2(t_2)}\n",
    "$$\n",
    "\n",
    "**Latency Covariations**\n",
    "\n",
    "We will first examine how latency covariations impact the covariogram. We take two neurons and simulate responses to a stimulus over 200 trials from a Poisson distribution"
   ]
  },
  {
   "cell_type": "code",
   "execution_count": 31,
   "metadata": {
    "collapsed": false
   },
   "outputs": [
    {
     "data": {
      "text/plain": [
       "84.0"
      ]
     },
     "execution_count": 31,
     "metadata": {},
     "output_type": "execute_result"
    }
   ],
   "source": [
    "nT = 200\n",
    "t = arange(1000)\n",
    "rate = 40\n",
    "u1 = random.uniform(0,1,(nT,1000))\n",
    "u2 = random.uniform(0,1,(nT,1000))\n",
    "sp1 = zeros(u1.shape)\n",
    "sp2 = sp1\n",
    "sp1[(rate*.001) > u1] = 1\n",
    "sp2[(rate*.001) > u2] = 1\n",
    "sum(sp1[0,:])"
   ]
  },
  {
   "cell_type": "markdown",
   "metadata": {},
   "source": [
    "### CCG Correction Methods\n",
    "\n",
    "Calculate CCG as:\n",
    "\n",
    "$$\n",
    "\\frac{\\frac{1}{M}\\Sigma_{i=1}^M \\Sigma_{t=1}^N x_1^i(t)x_2^i(t + \\tau)}{\\theta(\\tau)\\sqrt{\\lambda_1\\lambda_2}}\n",
    "$$\n",
    "\n",
    "**Shift Predictor Correction (Kohn and Smith, 2005)**\n",
    "\n",
    "Calculated by: subtracting the CCG calculated by using spike trains that are offset by one trial\n",
    "\n",
    "Corrects for: correlations induced by the stimulus\n",
    "\n",
    "**Jitter correction (Smith and Kohn, 2008)** \n",
    "\n",
    "Calculated by: subtracting expected value of CCGs produced from resampling the original data with spike times randomly perturbed (jittered) within a small temporal window; then average over all possible resamples\n",
    "\n",
    "Corrects for: temporal correlations on timescales larger than the jitter window and stimulus-locked correlations\n",
    "\n",
    "Jitter correction preserves firing rates within the jitter window bin and preserves the PSTH\n",
    "\n",
    "Analysis in Smith and Kohn (2008) revealed two components to CCG, one which is a sharp peak and one that is more broad. Both peaks decay with distance between neurons in the pair, however, the sharp peak decays more rapidly. \n",
    "\n",
    "The authors used jitter-correction to examine CCG peaks, specifically. They use jitter windows of 50ms. This peak is likely due to direct connectivity between neurons in the pair given the short timescale and the decay with distance (as connection probability also decays with distance).\n",
    "\n"
   ]
  },
  {
   "cell_type": "code",
   "execution_count": null,
   "metadata": {
    "collapsed": true
   },
   "outputs": [],
   "source": []
  }
 ],
 "metadata": {
  "kernelspec": {
   "display_name": "Python 3",
   "language": "python",
   "name": "python3"
  },
  "language_info": {
   "codemirror_mode": {
    "name": "ipython",
    "version": 3
   },
   "file_extension": ".py",
   "mimetype": "text/x-python",
   "name": "python",
   "nbconvert_exporter": "python",
   "pygments_lexer": "ipython3",
   "version": "3.4.3"
  }
 },
 "nbformat": 4,
 "nbformat_minor": 0
}
